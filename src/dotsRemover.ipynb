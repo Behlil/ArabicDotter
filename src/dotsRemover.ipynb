{
 "cells": [
  {
   "cell_type": "code",
   "execution_count": 1,
   "metadata": {},
   "outputs": [
    {
     "name": "stdout",
     "output_type": "stream",
     "text": [
      "Dotless Arabic Text: هذا نص بالنقط\n"
     ]
    }
   ],
   "source": [
    "import re\n",
    "\n",
    "def remove_dots(arabic_text):\n",
    "    # Define a regular expression pattern to match Arabic diacritics (dots)\n",
    "    diacritics_pattern = re.compile(\"[\\u064b-\\u0652]\")  # Range for Arabic diacritics\n",
    "    \n",
    "    # Replace diacritics with an empty string\n",
    "    dotless_text = diacritics_pattern.sub(\"\", arabic_text)\n",
    "    \n",
    "    return dotless_text\n",
    "\n",
    "# Example usage:\n",
    "arabic_text = \"هَذَا نَصٌ بِالنُّقُطِ\"\n",
    "dotless_text = remove_dots(arabic_text)\n",
    "print(\"Dotless Arabic Text:\", dotless_text)\n"
   ]
  },
  {
   "cell_type": "code",
   "execution_count": 2,
   "metadata": {},
   "outputs": [
    {
     "name": "stdout",
     "output_type": "stream",
     "text": [
      "Dotless Arabic Text: هذا نص بالنقط\n"
     ]
    }
   ],
   "source": [
    "import re\n",
    "\n",
    "def remove_dots(arabic_text):\n",
    "    # Define a regular expression pattern to match Arabic diacritics (dots)\n",
    "    diacritics_pattern = re.compile(\"[\\u064b-\\u0655\\u0657-\\u065f]\")  # Range for Arabic diacritics\n",
    "    \n",
    "    # Replace diacritics with an empty string\n",
    "    dotless_text = diacritics_pattern.sub(\"\", arabic_text)\n",
    "    \n",
    "    return dotless_text\n",
    "\n",
    "# Example usage:\n",
    "arabic_text = \"هَذَا نَصٌ بِالنُّقُطِ\"\n",
    "dotless_text = remove_dots(arabic_text)\n",
    "print(\"Dotless Arabic Text:\", dotless_text)\n"
   ]
  },
  {
   "cell_type": "code",
   "execution_count": 13,
   "metadata": {},
   "outputs": [
    {
     "name": "stdout",
     "output_type": "stream",
     "text": [
      "Original Arabic text: هَدَا ںَصٌ ٮِالںُّٯُطِ\n",
      "Dotless Arabic text: هدا ںص ٮالںّٯط\n"
     ]
    }
   ],
   "source": [
    "def remove_dots_from_arabic(text):\n",
    "    # Define a dictionary to map Arabic characters with dots to their dotless versions\n",
    "    dotless_mapping = {\n",
    "        'ً': '',  # Fatha above\n",
    "        'ٌ': '',  # Damma above\n",
    "        'ٍ': '',  # Kasra above\n",
    "        'َ': '',  # Fatha below\n",
    "        'ُ': '',  # Damma below\n",
    "        'ِ': '',  # Kasra below\n",
    "        'ـ': '',  # Tatweel (elongation sign)\n",
    "        '٠': '0',  # Arabic-Indic digit 0\n",
    "        '١': '1',  # Arabic-Indic digit 1\n",
    "        '٢': '2',  # Arabic-Indic digit 2\n",
    "        '٣': '3',  # Arabic-Indic digit 3\n",
    "        '٤': '4',  # Arabic-Indic digit 4\n",
    "        '٥': '5',  # Arabic-Indic digit 5\n",
    "        '٦': '6',  # Arabic-Indic digit 6\n",
    "        '٧': '7',  # Arabic-Indic digit 7\n",
    "        '٨': '8',  # Arabic-Indic digit 8\n",
    "        '٩': '9',  # Arabic-Indic digit 9\n",
    "    }\n",
    "\n",
    "    # Replace Arabic characters with dots using the dotless mapping\n",
    "    for char, dotless_char in dotless_mapping.items():\n",
    "        text = text.replace(char, dotless_char)\n",
    "\n",
    "    return text\n",
    "\n",
    "# Example usage\n",
    "arabic_text = \"هَدَا ںَصٌ ٮِالںُّٯُطِ\"\n",
    "dotless_text = remove_dots_from_arabic(arabic_text)\n",
    "print(f\"Original Arabic text: {arabic_text}\")\n",
    "print(f\"Dotless Arabic text: {dotless_text}\")\n"
   ]
  },
  {
   "cell_type": "code",
   "execution_count": 23,
   "metadata": {},
   "outputs": [
    {
     "name": "stdout",
     "output_type": "stream",
     "text": [
      " : 32, س: 1587, و: 1608,  : 32, ه: 1607, د: 1583, ا: 1575,  : 32, ں: 1722, ص: 1589,  : 32, ٮ: 1646, ا: 1575, ل: 1604, ں: 1722, ّ: 1617, ٯ: 1647, ط: 1591, "
     ]
    }
   ],
   "source": [
    "# prin the unicode for the string \n",
    "def print_unicode(text):\n",
    "    for char in text:\n",
    "        print(f\"{char}: {ord(char)}\", end=\", \")\n",
    "\n",
    "# Example usage\n",
    "arabic_text = \"ٮٮٮ سو هدا ںص ٮالںّٯط\"\n",
    "print_unicode(arabic_text)"
   ]
  },
  {
   "cell_type": "code",
   "execution_count": 35,
   "metadata": {},
   "outputs": [
    {
     "name": "stdout",
     "output_type": "stream",
     "text": [
      "ء\n"
     ]
    }
   ],
   "source": [
    "#\n",
    "print(\"\\u0621\")"
   ]
  },
  {
   "cell_type": "code",
   "execution_count": null,
   "metadata": {},
   "outputs": [],
   "source": []
  }
 ],
 "metadata": {
  "kernelspec": {
   "display_name": "Python 3",
   "language": "python",
   "name": "python3"
  },
  "language_info": {
   "codemirror_mode": {
    "name": "ipython",
    "version": 3
   },
   "file_extension": ".py",
   "mimetype": "text/x-python",
   "name": "python",
   "nbconvert_exporter": "python",
   "pygments_lexer": "ipython3",
   "version": "3.12.2"
  }
 },
 "nbformat": 4,
 "nbformat_minor": 2
}
