{
 "cells": [
  {
   "cell_type": "markdown",
   "id": "8be39900",
   "metadata": {},
   "source": [
    "## Prepare Data"
   ]
  },
  {
   "cell_type": "code",
   "execution_count": null,
   "id": "ce4019dc",
   "metadata": {},
   "outputs": [],
   "source": [
    "from cleaner import clean_and_export_data\n",
    "\n",
    "parquet_path = \"C:/Users/lenovo/Desktop/ML-Project/ml_project/data/train-00000-of-00001-a71f5b61d946ea27.parquet\"\n",
    "output_csv_path = \"cleaned_data.csv\"\n",
    "clean_and_export_data(parquet_path, output_csv_path)\n"
   ]
  },
  {
   "cell_type": "code",
   "execution_count": null,
   "id": "1bf9f291",
   "metadata": {},
   "outputs": [],
   "source": [
    "# load data\n",
    "import pandas as pd\n",
    "data = pd.read_csv(output_csv_path)\n",
    "data.head()"
   ]
  }
 ],
 "metadata": {
  "kernelspec": {
   "display_name": "Python 3 (ipykernel)",
   "language": "python",
   "name": "python3"
  },
  "language_info": {
   "codemirror_mode": {
    "name": "ipython",
    "version": 3
   },
   "file_extension": ".py",
   "mimetype": "text/x-python",
   "name": "python",
   "nbconvert_exporter": "python",
   "pygments_lexer": "ipython3",
   "version": "3.12.4"
  }
 },
 "nbformat": 4,
 "nbformat_minor": 5
}
